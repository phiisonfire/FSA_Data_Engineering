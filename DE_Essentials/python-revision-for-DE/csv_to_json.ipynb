{
 "cells": [
  {
   "cell_type": "code",
   "execution_count": 1,
   "metadata": {},
   "outputs": [],
   "source": [
    "import glob"
   ]
  },
  {
   "cell_type": "code",
   "execution_count": 2,
   "metadata": {},
   "outputs": [
    {
     "name": "stdout",
     "output_type": "stream",
     "text": [
      "Help on module glob:\n",
      "\n",
      "NAME\n",
      "    glob - Filename globbing utility.\n",
      "\n",
      "MODULE REFERENCE\n",
      "    https://docs.python.org/3.12/library/glob.html\n",
      "\n",
      "    The following documentation is automatically generated from the Python\n",
      "    source files.  It may be incomplete, incorrect or include features that\n",
      "    are considered implementation detail and may vary between Python\n",
      "    implementations.  When in doubt, consult the module reference at the\n",
      "    location listed above.\n",
      "\n",
      "FUNCTIONS\n",
      "    escape(pathname)\n",
      "        Escape all special characters.\n",
      "\n",
      "    glob(pathname, *, root_dir=None, dir_fd=None, recursive=False, include_hidden=False)\n",
      "        Return a list of paths matching a pathname pattern.\n",
      "\n",
      "        The pattern may contain simple shell-style wildcards a la\n",
      "        fnmatch. Unlike fnmatch, filenames starting with a\n",
      "        dot are special cases that are not matched by '*' and '?'\n",
      "        patterns by default.\n",
      "\n",
      "        If `include_hidden` is true, the patterns '*', '?', '**'  will match hidden\n",
      "        directories.\n",
      "\n",
      "        If `recursive` is true, the pattern '**' will match any files and\n",
      "        zero or more directories and subdirectories.\n",
      "\n",
      "    iglob(pathname, *, root_dir=None, dir_fd=None, recursive=False, include_hidden=False)\n",
      "        Return an iterator which yields the paths matching a pathname pattern.\n",
      "\n",
      "        The pattern may contain simple shell-style wildcards a la\n",
      "        fnmatch. However, unlike fnmatch, filenames starting with a\n",
      "        dot are special cases that are not matched by '*' and '?'\n",
      "        patterns.\n",
      "\n",
      "        If recursive is true, the pattern '**' will match any files and\n",
      "        zero or more directories and subdirectories.\n",
      "\n",
      "DATA\n",
      "    __all__ = ['glob', 'iglob', 'escape']\n",
      "\n",
      "FILE\n",
      "    /usr/lib/python3.12/glob.py\n",
      "\n",
      "\n"
     ]
    }
   ],
   "source": [
    "help(glob)"
   ]
  },
  {
   "cell_type": "code",
   "execution_count": 3,
   "metadata": {},
   "outputs": [
    {
     "name": "stdout",
     "output_type": "stream",
     "text": [
      "Help on function glob in module glob:\n",
      "\n",
      "glob(pathname, *, root_dir=None, dir_fd=None, recursive=False, include_hidden=False)\n",
      "    Return a list of paths matching a pathname pattern.\n",
      "\n",
      "    The pattern may contain simple shell-style wildcards a la\n",
      "    fnmatch. Unlike fnmatch, filenames starting with a\n",
      "    dot are special cases that are not matched by '*' and '?'\n",
      "    patterns by default.\n",
      "\n",
      "    If `include_hidden` is true, the patterns '*', '?', '**'  will match hidden\n",
      "    directories.\n",
      "\n",
      "    If `recursive` is true, the pattern '**' will match any files and\n",
      "    zero or more directories and subdirectories.\n",
      "\n"
     ]
    }
   ],
   "source": [
    "help(glob.glob)"
   ]
  },
  {
   "cell_type": "code",
   "execution_count": 5,
   "metadata": {},
   "outputs": [
    {
     "data": {
      "text/plain": [
       "['data/retail_db/',\n",
       " 'data/retail_db/products',\n",
       " 'data/retail_db/products/part-00000',\n",
       " 'data/retail_db/categories',\n",
       " 'data/retail_db/categories/part-00000',\n",
       " 'data/retail_db/schemas.json',\n",
       " 'data/retail_db/orders',\n",
       " 'data/retail_db/orders/part-00000',\n",
       " 'data/retail_db/order_items',\n",
       " 'data/retail_db/order_items/part-00000',\n",
       " 'data/retail_db/create_db_tables_pg.sql',\n",
       " 'data/retail_db/departments',\n",
       " 'data/retail_db/departments/part-00000',\n",
       " 'data/retail_db/load_db_tables_pg.sql',\n",
       " 'data/retail_db/customers',\n",
       " 'data/retail_db/customers/part-00000']"
      ]
     },
     "execution_count": 5,
     "metadata": {},
     "output_type": "execute_result"
    }
   ],
   "source": [
    "glob.glob(\"data/retail_db/**\", recursive=True)"
   ]
  },
  {
   "cell_type": "code",
   "execution_count": 6,
   "metadata": {},
   "outputs": [
    {
     "data": {
      "text/plain": [
       "['data/retail_db/products/part-00000',\n",
       " 'data/retail_db/categories/part-00000',\n",
       " 'data/retail_db/orders/part-00000',\n",
       " 'data/retail_db/order_items/part-00000',\n",
       " 'data/retail_db/departments/part-00000',\n",
       " 'data/retail_db/customers/part-00000']"
      ]
     },
     "execution_count": 6,
     "metadata": {},
     "output_type": "execute_result"
    }
   ],
   "source": [
    "glob.glob(\"data/retail_db/*/*\")"
   ]
  },
  {
   "cell_type": "code",
   "execution_count": 7,
   "metadata": {},
   "outputs": [
    {
     "data": {
      "text/plain": [
       "['data/retail_db/products/part-00000',\n",
       " 'data/retail_db/categories/part-00000',\n",
       " 'data/retail_db/orders/part-00000',\n",
       " 'data/retail_db/order_items/part-00000',\n",
       " 'data/retail_db/departments/part-00000',\n",
       " 'data/retail_db/customers/part-00000']"
      ]
     },
     "execution_count": 7,
     "metadata": {},
     "output_type": "execute_result"
    }
   ],
   "source": [
    "src_file_names = glob.glob(\"data/retail_db/*/part-*\")\n",
    "src_file_names"
   ]
  },
  {
   "cell_type": "code",
   "execution_count": 8,
   "metadata": {},
   "outputs": [],
   "source": [
    "import pandas as pd"
   ]
  },
  {
   "cell_type": "code",
   "execution_count": 9,
   "metadata": {},
   "outputs": [
    {
     "name": "stdout",
     "output_type": "stream",
     "text": [
      "Shape of data/retail_db/products/part-00000 is (1345, 6)\n",
      "Shape of data/retail_db/categories/part-00000 is (58, 3)\n",
      "Shape of data/retail_db/orders/part-00000 is (68883, 4)\n",
      "Shape of data/retail_db/order_items/part-00000 is (172198, 6)\n",
      "Shape of data/retail_db/departments/part-00000 is (6, 2)\n",
      "Shape of data/retail_db/customers/part-00000 is (12435, 9)\n"
     ]
    }
   ],
   "source": [
    "for file_name in src_file_names:\n",
    "    df = pd.read_csv(file_name, header=None)\n",
    "    print(f\"Shape of {file_name} is {df.shape}\")"
   ]
  },
  {
   "cell_type": "code",
   "execution_count": 10,
   "metadata": {},
   "outputs": [],
   "source": [
    "def get_column_names(\n",
    "        schemas: dict, \n",
    "        table_name: str, \n",
    "        sorting_key: str='column_position'\n",
    ") -> list[str]:\n",
    "    columns_detail = schemas.get(table_name)\n",
    "    columns_detail_sorted = sorted(\n",
    "        columns_detail, \n",
    "        key=lambda column_detail: column_detail.get(sorting_key)\n",
    "    )\n",
    "    return list(map(lambda column_detail: column_detail.get('column_name'), columns_detail_sorted))"
   ]
  },
  {
   "cell_type": "code",
   "execution_count": 16,
   "metadata": {},
   "outputs": [
    {
     "name": "stdout",
     "output_type": "stream",
     "text": [
      "Help on function makedirs in module os:\n",
      "\n",
      "makedirs(name, mode=511, exist_ok=False)\n",
      "    makedirs(name [, mode=0o777][, exist_ok=False])\n",
      "\n",
      "    Super-mkdir; create a leaf directory and all intermediate ones.  Works like\n",
      "    mkdir, except that any intermediate path segment (not just the rightmost)\n",
      "    will be created if it does not exist. If the target directory already\n",
      "    exists, raise an OSError if exist_ok is False. Otherwise no exception is\n",
      "    raised.  This is recursive.\n",
      "\n"
     ]
    }
   ],
   "source": [
    "import os\n",
    "\n",
    "help(os.makedirs)"
   ]
  },
  {
   "cell_type": "code",
   "execution_count": 22,
   "metadata": {},
   "outputs": [],
   "source": [
    "import json\n",
    "import os\n",
    "\n",
    "def get_table_name_from_path(path: str):\n",
    "    return path.split(\"/\")[2]\n",
    "\n",
    "def create_dataframe(file_name, column_names):\n",
    "    return pd.read_csv(\n",
    "        filepath_or_buffer=file_name,\n",
    "        names=column_names\n",
    "    )\n",
    "\n",
    "schemas = json.load(open('data/retail_db/schemas.json'))\n",
    "\n",
    "for file_name in src_file_names:\n",
    "    table_name = get_table_name_from_path(file_name)\n",
    "\n",
    "    write_dir = f\"data/retail_db_json/{table_name}\"\n",
    "    write_file_name = write_dir + f\"/{table_name}.json\"\n",
    "    os.makedirs(write_dir)\n",
    "\n",
    "    column_names = get_column_names(schemas, table_name)\n",
    "\n",
    "    table_df = create_dataframe(file_name, column_names)\n",
    "\n",
    "    table_df.to_json(\n",
    "        write_file_name,\n",
    "        orient='records',\n",
    "        lines=True)"
   ]
  },
  {
   "cell_type": "code",
   "execution_count": null,
   "metadata": {},
   "outputs": [],
   "source": [
    "pd."
   ]
  }
 ],
 "metadata": {
  "kernelspec": {
   "display_name": "pr-venv",
   "language": "python",
   "name": "python3"
  },
  "language_info": {
   "codemirror_mode": {
    "name": "ipython",
    "version": 3
   },
   "file_extension": ".py",
   "mimetype": "text/x-python",
   "name": "python",
   "nbconvert_exporter": "python",
   "pygments_lexer": "ipython3",
   "version": "3.12.3"
  }
 },
 "nbformat": 4,
 "nbformat_minor": 2
}
